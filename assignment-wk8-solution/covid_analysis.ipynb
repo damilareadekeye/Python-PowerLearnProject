{
 "cells": [
  {
   "cell_type": "code",
   "execution_count": null,
   "metadata": {},
   "outputs": [],
   "source": [
    "import pandas as pd\n",
    "\n",
    "df = pd.read_csv('owid-covid-data.csv')\n",
    "df.head()"
   ]
  },
  {
   "cell_type": "markdown",
   "metadata": {},
   "source": [
    "## Data Cleaning"
   ]
  },
  {
   "cell_type": "code",
   "execution_count": null,
   "metadata": {},
   "outputs": [],
   "source": [
    "df['date'] = pd.to_datetime(df['date'])\n",
    "countries = ['Kenya', 'United States', 'India']\n",
    "df_filtered = df[df['location'].isin(countries)]\n",
    "df_filtered = df_filtered.fillna(0)"
   ]
  },
  {
   "cell_type": "markdown",
   "metadata": {},
   "source": [
    "## Exploratory Data Analysis (EDA)"
   ]
  },
  {
   "cell_type": "code",
   "execution_count": null,
   "metadata": {},
   "outputs": [],
   "source": [
    "import matplotlib.pyplot as plt\n",
    "import seaborn as sns\n",
    "\n",
    "# Plot total cases over time\n",
    "plt.figure(figsize=(12, 6))\n",
    "sns.lineplot(data=df_filtered, x='date', y='total_cases', hue='location')\n",
    "plt.title('Total COVID-19 Cases Over Time')\n",
    "plt.xlabel('Date')\n",
    "plt.ylabel('Total Cases')\n",
    "plt.grid(True)\n",
    "plt.show()\n",
    "\n",
    "# Plot total deaths over time\n",
    "plt.figure(figsize=(12, 6))\n",
    "sns.lineplot(data=df_filtered, x='date', y='total_deaths', hue='location')\n",
    "plt.title('Total COVID-19 Deaths Over Time')\n",
    "plt.xlabel('Date')\n",
    "plt.ylabel('Total Deaths')\n",
    "plt.grid(True)\n",
    "plt.show()\n",
    "\n",
    "# Compare daily new cases\n",
    "plt.figure(figsize=(12, 6))\n",
    "sns.lineplot(data=df_filtered, x='date', y='new_cases', hue='location')\n",
    "plt.title('Daily New COVID-19 Cases Over Time')\n",
    "plt.xlabel('Date')\n",
    "plt.ylabel('New Cases')\n",
    "plt.grid(True)\n",
    "plt.show()\n",
    "\n",
    "# Calculate death rate\n",
    "df_filtered['death_rate'] = (df_filtered['total_deaths'] / df_filtered['total_cases']) * 100\n",
    "df_filtered['death_rate'] = df_filtered['death_rate'].fillna(0) # Handle division by zero\n",
    "\n",
    "# Plot death rate over time\n",
    "plt.figure(figsize=(12, 6))\n",
    "sns.lineplot(data=df_filtered, x='date', y='death_rate', hue='location')\n",
    "plt.title('COVID-19 Death Rate Over Time')\n",
    "plt.xlabel('Date')\n",
    "plt.ylabel('Death Rate (%)')\n",
    "plt.grid(True)\n",
    "plt.show()"
   ]
  },
  {
   "cell_type": "markdown",
   "metadata": {},
   "source": [
    "## Visualizing Vaccination Progress"
   ]
  },
  {
   "cell_type": "code",
   "execution_count": null,
   "metadata": {},
   "outputs": [],
   "source": [
    "# Plot cumulative vaccinations over time\n",
    "plt.figure(figsize=(12, 6))\n",
    "sns.lineplot(data=df_filtered, x='date', y='total_vaccinations', hue='location')\n",
    "plt.title('Total COVID-19 Vaccinations Over Time')\n",
    "plt.xlabel('Date')\n",
    "plt.ylabel('Total Vaccinations')\n",
    "plt.grid(True)\n",
    "plt.show()"
   ]
  },
  {
   "cell_type": "markdown",
   "metadata": {},
   "source": [
    "## Insights & Reporting\n",
    "\n",
    "### Key Insights:\n",
    "\n",
    "*   **Insight 1:** [Summarize a key trend from total cases or deaths over time.]\n",
    "*   **Insight 2:** [Compare daily new cases between countries and highlight any significant differences.]\n",
    "*   **Insight 3:** [Discuss the death rate trends and any notable observations.]\n",
    "*   **Insight 4:** [Analyze the vaccination progress and compare it across countries.]\n",
    "\n",
    "### Conclusion:\n",
    "\n",
    "This notebook provides an exploratory data analysis of global COVID-19 trends, including cases, deaths, and vaccination progress. The visualizations highlight key patterns and differences across selected countries. Further analysis could involve more detailed statistical modeling, forecasting, or exploring additional variables in the dataset."
   ]
  }
 ],
 "metadata": {
  "kernelspec": {
   "display_name": "Python 3",
   "language": "python",
   "name": "python3"
  },
  "language_info": {
   "codemirror_mode": {
    "name": "ipython",
    "version": 3
   },
   "file_extension": ".py",
   "mimetype": "text/x-python",
   "name": "python",
   "nbconvert_exporter": "python",
   "pygments_lexer": "ipython3",
   "version": "3.12.4"
  }
 },
 "nbformat": 4,
 "nbformat_minor": 4
}